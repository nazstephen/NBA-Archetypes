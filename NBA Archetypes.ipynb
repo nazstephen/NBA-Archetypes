{
 "cells": [
  {
   "cell_type": "markdown",
   "metadata": {},
   "source": [
    "# NBA Archetypes"
   ]
  },
  {
   "cell_type": "code",
   "execution_count": null,
   "metadata": {},
   "outputs": [],
   "source": [
    "# Load data function\n",
    "def load_data(file_name, local_path, server_path):\n",
    "    try:\n",
    "        data = pd.read_csv(local_path + file_name)\n",
    "        print(f\"'{file_name}' file successfully read from the local path.\")\n",
    "\n",
    "    except FileNotFoundError:\n",
    "        try:\n",
    "            data = pd.read_csv(server_path + file_name)\n",
    "            print(f\"'{file_name}' file successfully read from the server path.\")\n",
    "\n",
    "        except FileNotFoundError:\n",
    "            print(f\"'{file_name}' file not found. Please check the file paths.\")\n",
    "            data = None\n",
    "            \n",
    "    return data\n",
    "\n",
    "file_names = ['contract.csv', 'internet.csv', 'personal.csv', 'phone.csv']\n",
    "local_path = '/Users/benjaminstephen/Documents/TripleTen/Sprint_17/Final_Project/datasets/final_provider/'\n",
    "server_path = '/datasets/final_provider/'\n",
    "\n",
    "contract_data = load_data(file_names[0], local_path, server_path)\n",
    "internet_data = load_data(file_names[1], local_path, server_path)\n",
    "personal_data = load_data(file_names[2], local_path, server_path)   \n",
    "phone_data = load_data(file_names[3], local_path, server_path)  "
   ]
  }
 ],
 "metadata": {
  "kernelspec": {
   "display_name": "base",
   "language": "python",
   "name": "python3"
  },
  "language_info": {
   "name": "python",
   "version": "3.11.7"
  }
 },
 "nbformat": 4,
 "nbformat_minor": 2
}
